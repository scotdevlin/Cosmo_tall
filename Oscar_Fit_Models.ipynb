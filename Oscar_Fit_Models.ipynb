{
 "cells": [
  {
   "cell_type": "markdown",
   "id": "9317a860",
   "metadata": {},
   "source": [
    "# Oscar's code: Fitting models to data\n",
    "\n",
    "In this workbook we will import data and find the cosmological model that best fits that data. \n",
    "\n",
    "### 3.1 First set up the packages and functions\n",
    "We need to know the distance modulus as a function of redshift.  Distance modulus is defined as \n",
    "\\begin{equation} \\mu(z) = 5 \\log_{10}(D_L)\\end{equation}\n",
    "where\n",
    "\\begin{equation} D_L = R_0 S_k(\\chi) (1+z) \\end{equation}\n",
    "and $S_k(\\chi)=\\sin(\\chi), \\chi,\\; {\\rm or}\\; \\sinh(\\chi)$ for closed, flat, and open universes respectively, and\n",
    "\\begin{equation} \\chi = \\frac{c}{R_0H_0}\\int_0^z \\frac{dz}{E(z)}\\end{equation}\n",
    "with $E(z)=H(z)/H_0$.\n",
    "\n",
    "Note that the absolute magnitude of the SNe is about -19.5, but it enters as an additive constant in the same way as $c/H_0$ and both have high uncertainty.  Therefore we *marginalise* over this offset and it doesn't matter what value of $H_0$ we use."
   ]
  },
  {
   "cell_type": "code",
   "execution_count": 1,
   "id": "a7d80028",
   "metadata": {},
   "outputs": [],
   "source": [
    "# First let's set up our packages\n",
    "import numpy as np\n",
    "from matplotlib import pyplot as plt\n",
    "from scipy import integrate\n",
    "\n",
    "# And set some constants\n",
    "c = 299792.458 # km/s (speed of light)\n",
    "H0kmsmpc = 70.  # Hubble constant in km/s/Mpc\n",
    "H0s = H0kmsmpc * 3.2408e-20 # H0 in inverse seconds is H0 in km/s/Mpc * (3.2408e-20 Mpc/km)\n",
    "\n",
    "# Write a function for the integrand, i.e. $1/E(z)$,\n",
    "def ezinv(z,om=0.3,ol=0.7,w0=-1.0,wa=0.0,orr=0.0):\n",
    "    ok = 1.-om-ol-orr\n",
    "    a  = 1./(1.+z)\n",
    "    f = a**(3*(1.+w0+wa)) * np.exp(3*wa*(1-a))\n",
    "    ez = np.sqrt( orr/a**4 + om/a**3 + ok/a**2 + ol/f ) \n",
    "    return 1./ez\n",
    "\n",
    "# The curvature correction function\n",
    "def Sk(xx, ok):\n",
    "    if ok < 0.0:\n",
    "        dk = np.sin(np.sqrt(-ok)*xx)/np.sqrt(-ok)\n",
    "    elif ok > 0.0:\n",
    "        dk = np.sinh(np.sqrt(ok)*xx)/np.sqrt(ok)\n",
    "    else:\n",
    "        dk = xx\n",
    "    return dk\n",
    "\n",
    "# The distance modulus\n",
    "def dist_mod(zs,om=0.3,ol=0.7,w0=-1.0,wa=0.0,orr=0.0):\n",
    "    \"\"\" Calculate the distance modulus, correcting for curvature\"\"\"\n",
    "    ok = 1.0 - om - ol\n",
    "    xx = np.array([integrate.quad(ezinv, 0, z, args=(om, ol, w0, wa, orr))[0] for z in zs])\n",
    "    D = Sk(xx, ok)\n",
    "    lum_dist = D * (1 + zs) \n",
    "    dist_mod = 5 * np.log10(lum_dist) # Distance modulus\n",
    "    # Add an arbitrary constant that's approximately the log of c on Hubble constant minus absolute magnitude of -19.5\n",
    "    dist_mod = dist_mod + np.log(c/H0kmsmpc)-(-19.5)  # You can actually skip this step and it won't make a difference to our fitting\n",
    "    return dist_mod"
   ]
  },
  {
   "cell_type": "markdown",
   "id": "a1619f9d",
   "metadata": {},
   "source": [
    "### 3.2 Now read in the data\n",
    "I have generated some mock supernova data at random redshifts between $0.02<z<1.0$.  I then choose a cosmological model and calculate the distance modulus for each redshift in that model.  Then I give some uncertainty to the data points and scatter them randomly about the correct model by an amount corresponding to their uncertainty. \n",
    "\n",
    "I've generated 8 different models, all in files called DataX.txt, where X is a number from 0-7. \n",
    "\n",
    "There are five possible variables that I have specified in the models.  These are\n",
    "* Matter density: $\\Omega_M$\n",
    "* Dark Energy density: $\\Omega_\\Lambda$\n",
    "* Radiation density: $\\Omega_R$\n",
    "* Equation of state of dark energy: $w_0$\n",
    "* Change in the equation of state with scalefactor: $w_a$, where $w=w_0+w_a(1-a)$.\n",
    "\n",
    "You can test your code on Data00.txt and Data0.txt.  Both were generated using a model with $(\\Omega_M,\\Omega_{\\Lambda})=(0.3,0.7)$ and all other parameters set to their standard values, namely $\\Omega_R=0.0$, $w_0=-1.0$, $w_a=0.0$.  In addition Data00.txt has perfect data with no scatter and small uncertainties, so you should be able to recover exactly the correct model. \n",
    "\n",
    "Data sets 1-3 are models in which $\\Omega_R=0.0$, $w_0=-1.0$, $w_a=0.0$ and only $\\Omega_M$ and $\\Omega_{\\Lambda}$ change.  \n",
    "\n",
    "Data sets 4-7 could be anything! (Within the realms of the five parameters described above.)\n",
    "\n",
    "Feel free to choose which data set you want to analyse for your project.\n"
   ]
  },
  {
   "cell_type": "code",
   "execution_count": 2,
   "id": "f7e4507e",
   "metadata": {},
   "outputs": [
    {
     "data": {
      "image/png": "[encoded data removed]",
      "text/plain": [
       "<Figure size 640x480 with 1 Axes>"
      ]
     },
     "metadata": {},
     "output_type": "display_data"
    }
   ],
   "source": [
    "# Add a new function that reads in the data (data files should be in a directory called data)\n",
    "def read_data(model_name):\n",
    "    d = np.genfromtxt('data/'+model_name+'.txt',delimiter=',')\n",
    "    zs = d[:,0]\n",
    "    mu = d[:,1]\n",
    "    muerr=d[:,2]\n",
    "    return zs, mu, muerr\n",
    "\n",
    "zs, mu, muerr = read_data('Data00')\n",
    "\n",
    "# Plot it to see what it looks like, this is called a Hubble diagram\n",
    "plt.errorbar(zs,mu,yerr=muerr,fmt='.',elinewidth=0.7,markersize=4,alpha=0.5)\n",
    "plt.xlim(0,1.0)\n",
    "plt.xlabel('redshift')\n",
    "plt.ylabel('magnitude')\n",
    "plt.show()\n"
   ]
  },
  {
   "cell_type": "markdown",
   "id": "1d4ca8d8",
   "metadata": {},
   "source": [
    "### 3.3 Calculate the theory corresponding to that data for a range of cosmological models\n",
    "Then overplot them on the Hubble diagram.  Here we're just testing some specific interesting examples.\n",
    "It's always important to visualise your data and check that the models and data are doing what you think they are!"
   ]
  },
  {
   "cell_type": "code",
   "execution_count": 3,
   "id": "6c74bef5",
   "metadata": {
    "scrolled": false
   },
   "outputs": [
    {
     "ename": "SyntaxError",
     "evalue": "unterminated string literal (detected at line 25) (591452599.py, line 25)",
     "output_type": "error",
     "traceback": [
      "\u001b[1;36m  Cell \u001b[1;32mIn[3], line 25\u001b[1;36m\u001b[0m\n\u001b[1;33m    plt.ylabel('magnitude no\u001b[0m\n\u001b[1;37m               ^\u001b[0m\n\u001b[1;31mSyntaxError\u001b[0m\u001b[1;31m:\u001b[0m unterminated string literal (detected at line 25)\n"
     ]
    }
   ],
   "source": [
    "mu_om00_ox00 = dist_mod(zs,om=0.0,ol=0.0)  # We're going to use this empty model as a benchmark to compare the others to\n",
    "mu_om10_ox00 = dist_mod(zs,om=1.0,ol=0.0)\n",
    "mu_om03_ox00 = dist_mod(zs,om=0.3,ol=0.0)\n",
    "mu_om03_ox07 = dist_mod(zs,om=0.3,ol=0.7)\n",
    "\n",
    "# Plot it to see what it looks like, this is called a Hubble diagram\n",
    "plt.errorbar(zs,mu,yerr=muerr,fmt='.',elinewidth=0.7,markersize=4,alpha=0.5)\n",
    "plt.plot(zs,mu_om10_ox00,'-.',color='red',label='(1.0, 0.0)')\n",
    "plt.plot(zs,mu_om03_ox00,'--',color='blue',label='(0.3, 0.0)')\n",
    "plt.plot(zs,mu_om03_ox07,'-',color='green',label='(0.3, 0.7)')\n",
    "plt.xlim(0,1.0)\n",
    "plt.xlabel('redshift')\n",
    "plt.ylabel('magnitude')\n",
    "plt.legend(frameon=False)\n",
    "plt.show()\n",
    "\n",
    "# Now plot a Hubble diagram relative to the empty model (i.e. subtract the empty model from all the data and models)\n",
    "plt.errorbar(zs,mu-mu_om00_ox00,yerr=muerr,fmt='.',elinewidth=0.7,markersize=4,alpha=0.5)\n",
    "plt.plot(zs,mu_om10_ox00-mu_om00_ox00,'-.',color='red',label='(1.0, 0.0)')\n",
    "plt.plot(zs,mu_om03_ox00-mu_om00_ox00,'--',color='blue',label='(0.3, 0.0)')\n",
    "plt.plot(zs,mu_om03_ox07-mu_om00_ox00,'-',color='green',label='(0.3, 0.7)')\n",
    "plt.axhline(y=0.0,ls=':',color='black')\n",
    "plt.xlim(0,1.0)\n",
    "plt.xlabel('redshift')\n",
    "plt.ylabel('magnitude no\n",
    "           rmalised to (0,0)')\n",
    "plt.legend(frameon=False)\n",
    "plt.show()"
   ]
  },
  {
   "cell_type": "markdown",
   "id": "ab5cfca1",
   "metadata": {},
   "source": [
    "### 3.4 Normalise the theory\n",
    "You can see that there is a vertical offset between the different theory curves.  \n",
    "We marginalise over this vertical offset, because we do not have enough information to constrain the vertical offset independently.\n",
    "In other words we use the data to determine what the vertical offset should be, but we do not care about what the answer is!\n",
    "(We are interested in the other parameters in the fit, but not that one.  The other parameters determine the *shape* of the curve.)\n",
    "\n",
    "The easiest way to normalise the curves is to take a weighted average of the difference between the data points and the theory in each case."
   ]
  },
  {
   "cell_type": "code",
   "execution_count": null,
   "id": "7aa90c56",
   "metadata": {},
   "outputs": [],
   "source": [
    "# Calculate mscript for each of these, which is the thing that determines the vertical normalisation \n",
    "mscr_om10_ox00 = np.sum((mu_om10_ox00-mu)/muerr**2)/np.sum(1./muerr**2)\n",
    "mscr_om03_ox00 = np.sum((mu_om03_ox00-mu)/muerr**2)/np.sum(1./muerr**2)\n",
    "mscr_om03_ox07 = np.sum((mu_om03_ox07-mu)/muerr**2)/np.sum(1./muerr**2)\n",
    "\n",
    "print(mscr_om10_ox00,mscr_om03_ox00,mscr_om03_ox07)\n",
    "\n",
    "mu_om10_ox00=mu_om10_ox00-mscr_om10_ox00\n",
    "mu_om03_ox00=mu_om03_ox00-mscr_om03_ox00\n",
    "mu_om03_ox07=mu_om03_ox07-mscr_om03_ox07\n",
    "\n",
    "# Repeat the plot and see how it changes\n",
    "# Plot it to see what it looks like, this is called a Hubble diagram\n",
    "plt.errorbar(zs,mu,yerr=muerr,fmt='.',elinewidth=0.7,markersize=4,alpha=0.5)\n",
    "plt.plot(zs,mu_om10_ox00,'-.',color='red',label='(1.0, 0.0)')\n",
    "plt.plot(zs,mu_om03_ox00,'--',color='blue',label='(0.3, 0.0)')\n",
    "plt.plot(zs,mu_om03_ox07,'-',color='green',label='(0.3, 0.7)')\n",
    "plt.xlim(0,1.0)\n",
    "plt.xlabel('redshift')\n",
    "plt.ylabel('magnitude')\n",
    "plt.legend(frameon=False)\n",
    "plt.show()\n",
    "\n",
    "# Now plot a Hubble diagram relative to the empty model (i.e. subtract the empty model from all the data and models)\n",
    "plt.errorbar(zs,mu-mu_om00_ox00,yerr=muerr,fmt='.',elinewidth=0.7,markersize=4,alpha=0.5)\n",
    "plt.plot(zs,mu_om10_ox00-mu_om00_ox00,'-.',color='red',label='(1.0, 0.0)')\n",
    "plt.plot(zs,mu_om03_ox00-mu_om00_ox00,'--',color='blue',label='(0.3, 0.0)')\n",
    "plt.plot(zs,mu_om03_ox07-mu_om00_ox00,'-',color='green',label='(0.3, 0.7)')\n",
    "plt.axhline(y=0.0,ls=':',color='black')\n",
    "plt.xlim(0,1.0)\n",
    "plt.xlabel('redshift')\n",
    "plt.ylabel('magnitude normalised to (0,0)')\n",
    "plt.legend(frameon=False)\n",
    "plt.show()"
   ]
  },
  {
   "cell_type": "markdown",
   "id": "05856b83",
   "metadata": {},
   "source": [
    "## 3.5 Perform a fit to many models \n",
    "To find the best model that best matches the data use a $\\chi^2$ test.\n"
   ]
  },
  {
   "cell_type": "code",
   "execution_count": null,
   "id": "a7c082fe",
   "metadata": {},
   "outputs": [],
   "source": [
    "n = 60               \n",
    "oms = np.linspace(0, 0.5, n)  \n",
    "ols = np.linspace(.3, 1.0, n)\n",
    "w0s = np.linspace(-1.5, -0.5,n)\n",
    "chi2 = np.ones((n, n)) * np.inf  \n",
    "\n",
    "\n",
    "\n",
    "# Calculate Chi2 for each model\n",
    "for i, om in enumerate(oms):                                         \n",
    "        for j, ol in enumerate(ols):                                 \n",
    "            mu_model = dist_mod(zs, om=om, ol=ol)                    \n",
    "            mscr = np.sum((mu_model-mu)/muerr**2)/np.sum(1./muerr**2) \n",
    "            mu_model_norm = mu_model-mscr                             \n",
    "            chi2[i,j] = np.sum((mu_model_norm - mu) ** 2 / muerr**2)  \n",
    "            \n",
    "          \n",
    "            \n",
    "        \n",
    "            \n",
    "# Convert that to a likelihood and calculate the reduced chi2\n",
    "likelihood = np.exp(-0.5 * (chi2-np.amin(chi2)))  # convert the chi^2 to a likelihood (np.amin(chi2) calculates the minimum of the chi^2 array)\n",
    "chi2_reduced = chi2 / (len(mu)-2)                 # calculate the reduced chi^2, i.e. chi^2 per degree of freedom, where dof = number of data points minus number of parameters being fitted \n",
    "\n",
    "# Calculate the best fit values (where chi2 is minimum)\n",
    "indbest = np.argmin(chi2)                 # Gives index of best fit but where the indices are just a single number\n",
    "ibest   = np.unravel_index(indbest,[n,n]) # Converts the best fit index to the 2d version (i,j)\n",
    "print( 'Best fit values are (om,ol)=(%.3f,%.3f)'%( oms[ibest[0]], ols[ibest[1]] ) )\n",
    "print( 'Reduced chi^2 for the best fit is %0.2f'%chi2_reduced[ibest[0],ibest[1]] )\n"
   ]
  },
  {
   "cell_type": "code",
   "execution_count": null,
   "id": "935f90ba",
   "metadata": {},
   "outputs": [],
   "source": [
    "# Plot contours of 1, 2, and 3 sigma\n",
    "plt.contour(oms,ols,np.transpose(chi2-np.amin(chi2)),cmap=\"winter\",**{'levels':[2.30,6.18,11.83]})\n",
    "plt.plot(oms[ibest[0]], ols[ibest[1]],'x',color='black',label='(om,ol)=(%.3f,%.3f)'%( oms[ibest[0]], ols[ibest[1]]) )\n",
    "plt.xlabel(\"$\\Omega_m$\", fontsize=12)\n",
    "plt.ylabel(\"$\\Omega_\\Lambda$\", fontsize=12)\n",
    "plt.legend(frameon=False)\n",
    "plt.savefig(\"plots/contours_omol.png\",bbox_inches='tight')\n",
    "plt.close()"
   ]
  },
  {
   "cell_type": "markdown",
   "id": "c1db058a",
   "metadata": {},
   "source": [
    "# Creating more 2D Plots"
   ]
  },
  {
   "cell_type": "code",
   "execution_count": 61,
   "id": "947d54ff",
   "metadata": {},
   "outputs": [],
   "source": [
    "#tamara's plot1D function\n",
    "def plot_1d(x,y,xlabel,ylabel,xbest,filename='plots/1Dtemp.png'):\n",
    "    plot = plt.plot(x,y)\n",
    "    plt.axvline(x=xbest)\n",
    "    plt.xlabel(xlabel, fontsize=12)\n",
    "    plt.ylabel(ylabel, fontsize=12)\n",
    "    #plt.savefig(filename,bbox_inches='tight')\n",
    "    #plt.close()\n",
    "    #return plot\n",
    "\n",
    "    \n",
    "#get     \n",
    "def best_fit(datalabel, xlabel , ylabel , paramXname, paramYname, paramsX, paramsY):\n",
    "    \n",
    "    #make triplePlot\n",
    "    \n",
    "    fig = plt.figure()\n",
    "    gs = fig.add_gridspec(2, 2, hspace=0.1, wspace = 0.1)\n",
    "    axs = gs.subplots()\n",
    "    axs[0, 1].axis('off')\n",
    "    axs[0, 0].sharex(axs[1, 0])\n",
    "    axs[1, 1].sharey(axs[1, 0])\n",
    "    plt.setp(axs[0,0].get_xticklabels(), visible=False)\n",
    "    plt.setp(axs[1,1].get_yticklabels(), visible=False)\n",
    "    \n",
    "    for i, paramX in enumerate(paramsX):                                         \n",
    "            for j, paramY in enumerate(paramsY):  \n",
    "              \n",
    "                mu_model = dist_mod(zs, **{paramXname: paramX}, **{paramYname: paramY})  \n",
    "                mscr = np.sum((mu_model-mu)/muerr**2)/np.sum(1./muerr**2) \n",
    "                mu_model_norm = mu_model-mscr                             \n",
    "                chi2[i,j] = np.sum((mu_model_norm - mu) ** 2 / muerr**2)\n",
    "    likelihood = np.exp(-0.5 * (chi2-np.amin(chi2)))  # convert the chi^2 to a likelihood (np.amin(chi2) calculates the minimum of the chi^2 array)\n",
    "    likelihood = likelihood/np.sum(likelihood)\n",
    "    chi2_reduced = chi2 / (len(mu)-2)                 # calculate the reduced chi^2, i.e. chi^2 per degree of freedom, where dof = number of data points minus number of parameters being fitted \n",
    "    \n",
    "    # Calculate the best fit values (where chi2 is minimum)\n",
    "    indbest = np.argmin(chi2)                 # Gives index of best fit but where the indices are just a single number\n",
    "    ibest   = np.unravel_index(indbest,[n,n]) # Converts the best fit index to the 2d version (i,j)\n",
    "    print( 'Best fit values in are (%s,%s)=(%.3f,%.3f)'%( paramXname,paramYname,paramsX[ibest[0]], paramsY[ibest[1]]))\n",
    "    print( 'Reduced chi^2 for the best fit is %0.2f'%chi2_reduced[ibest[0],ibest[1]] )          \n",
    "    \n",
    "    #LIKELIHOODS\n",
    "    \n",
    "    likelihood = np.exp(-0.5 * (chi2-np.amin(chi2)))  # convert the chi^2 to a likelihood (np.amin(chi2) calculates the minimum of the chi^2 array)\n",
    "    likelihood = likelihood/np.sum(likelihood)\n",
    "    likelihood_paramX = np.sum(likelihood,1)\n",
    "    likelihood_paramY = np.sum(likelihood,0)\n",
    "    \n",
    "    \n",
    "   # for i in range(n):\n",
    "   #     temp = likelihood_paramX[i] -likelihood_paramX[ibest[0]] \n",
    "        \n",
    "        \n",
    "    errorX = ( np.sum(  ( (paramsX - paramsX[ibest[0]])**2 )*(likelihood_paramX) )  )**0.5\n",
    "    errorY = ( np.sum(  ( (paramsY - paramsY[ibest[1]])**2 )*(likelihood_paramY) )  )**0.5 \n",
    "    \n",
    "    \n",
    "    #plotting part\n",
    "    # Plot contours of 1, 2, and 3 sigma\n",
    "    axs[1,0].contour(paramsX,paramsY,np.transpose(chi2-np.amin(chi2)),cmap=\"winter\",**{'levels':[2.30,6.18,11.83]})\n",
    "    axs[1, 0].plot(paramsX[ibest[0]], paramsY[ibest[1]],'x',color='black',label='(%s,%s)=(%.3f$\\pm$%.3f,%.3f$\\pm$%.3f)'%(xlabel,ylabel,paramsX[ibest[0]],errorX, paramsY[ibest[1]], errorY))\n",
    "    \n",
    "    #errorbar\n",
    "    axs[1, 0].errorbar(paramsX[ibest[0]], paramsY[ibest[1]], xerr = errorX, yerr = errorY, capsize=5, color = 'r' )\n",
    "    \n",
    "    axs[1, 0].set_xlabel(xlabel, fontsize=10)\n",
    "    axs[1, 0].set_ylabel(ylabel, fontsize=10)\n",
    "    axs[1, 0].legend(frameon=False,fontsize=6, loc = 'upper left')\n",
    "    axs[1, 0].axhline(paramsY[ibest[1]], linewidth=0.7, color='black', linestyle = '--')\n",
    "    axs[1, 0].axvline(paramsX[ibest[0]], linewidth=0.7, color='black', linestyle = '--')\n",
    "\n",
    "    \n",
    "    \n",
    "    \n",
    "    #create TOP LEFT (X) likelihood\n",
    "    axs[0, 0].plot(1.0*paramsX,1.0*likelihood_paramX)\n",
    "    axs[0, 0].axvline(paramsX[ibest[0]], linewidth=0.7, color='black', linestyle = '--')\n",
    "    #axs[0, 0].xlabel(xlabel, fontsize=12)\n",
    "    axs[0, 0].set_ylabel(\"Likelihood\", fontsize=10)\n",
    "    \n",
    "     #create BOTTOM RIGHT (y) likelihood\n",
    "    #print((1/3)*paramsY, 1.5*likelihood_paramY)\n",
    "    axs[1, 1].plot(1.0*likelihood_paramY,1.0*paramsY)\n",
    "    axs[1, 1].axhline(paramsY[ibest[1]], linewidth=0.7, color='black', linestyle = '--')\n",
    "    axs[1, 1].set_xlabel(\"Likelihood\", fontsize=10)\n",
    "    #axs[1, 1].ylabel(ylabel, fontsize=12)\n",
    "\n",
    "    filename = 'plots/%s_contourAndLikelihoods_%s_vs_%s_errorbars'%( datalabel,paramXname,paramYname)\n",
    "    plt.savefig(filename,bbox_inches='tight')\n",
    "    plt.show()"
   ]
  },
  {
   "cell_type": "code",
   "execution_count": 62,
   "id": "c61a15e0",
   "metadata": {},
   "outputs": [],
   "source": [
    "#should be able to change all initial conditions in this cell\n",
    "zs, mu, muerr = read_data('Data2')\n",
    "\n",
    "n = 61    \n",
    "chi2 = np.ones((n, n)) * np.inf \n",
    "oms = np.linspace(0, 1.0, n)  \n",
    "ols = np.linspace(0, 1.0, n)\n",
    "orrs = np.linspace(0, 1.0, n)\n",
    "w0s = np.linspace(-1.0, -0.0,n)\n",
    "was = np.linspace(-0.5,0.5,n)\n"
   ]
  },
  {
   "cell_type": "code",
   "execution_count": 63,
   "id": "7de842d6",
   "metadata": {},
   "outputs": [
    {
     "name": "stdout",
     "output_type": "stream",
     "text": [
      "Best fit values in are (om,ol)=(0.750,0.000)\n",
      "Reduced chi^2 for the best fit is 1.12\n"
     ]
    },
    {
     "data": {
      "image/png": "[encoded data removed]",
      "text/plain": [
       "<Figure size 640x480 with 4 Axes>"
      ]
     },
     "metadata": {},
     "output_type": "display_data"
    }
   ],
   "source": [
    "best_fit(\"data2\",\"$\\Omega_m$\", \"$\\Omega_{\\Lambda}$\", \"om\", \"ol\", oms, ols)\n",
    "#best_fit(\"data3\",\"$\\Omega_m$\", \"$w_0$\", \"om\", \"w0\", oms, w0s)\n",
    "#best_fit(\"data3\",\"$w_0$\", \"$w_a$\", \"w0\", \"wa\", w0s, was)"
   ]
  },
  {
   "cell_type": "raw",
   "id": "a4600b0d",
   "metadata": {},
   "source": []
  },
  {
   "cell_type": "code",
   "execution_count": null,
   "id": "4b7f2d19",
   "metadata": {},
   "outputs": [],
   "source": []
  },
  {
   "cell_type": "code",
   "execution_count": null,
   "id": "2d84993b",
   "metadata": {},
   "outputs": [],
   "source": []
  }
 ],
 "metadata": {
  "kernelspec": {
   "display_name": "Python 3 (ipykernel)",
   "language": "python",
   "name": "python3"
  },
  "language_info": {
   "codemirror_mode": {
    "name": "ipython",
    "version": 3
   },
   "file_extension": ".py",
   "mimetype": "text/x-python",
   "name": "python",
   "nbconvert_exporter": "python",
   "pygments_lexer": "ipython3",
   "version": "3.10.9"
  }
 },
 "nbformat": 4,
 "nbformat_minor": 5
}
